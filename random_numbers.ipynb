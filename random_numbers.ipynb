{
 "cells": [
  {
   "cell_type": "code",
   "execution_count": 1,
   "id": "7ba55409",
   "metadata": {},
   "outputs": [],
   "source": [
    "import random "
   ]
  },
  {
   "cell_type": "code",
   "execution_count": 2,
   "id": "6209d88e",
   "metadata": {},
   "outputs": [
    {
     "data": {
      "text/plain": [
       "40"
      ]
     },
     "execution_count": 2,
     "metadata": {},
     "output_type": "execute_result"
    }
   ],
   "source": [
    "random.randint(-90,90)"
   ]
  },
  {
   "cell_type": "code",
   "execution_count": 3,
   "id": "13c5848b",
   "metadata": {},
   "outputs": [
    {
     "data": {
      "text/plain": [
       "0.8634223557222023"
      ]
     },
     "execution_count": 3,
     "metadata": {},
     "output_type": "execute_result"
    }
   ],
   "source": [
    "random.random()"
   ]
  },
  {
   "cell_type": "code",
   "execution_count": 4,
   "id": "b43a59d9",
   "metadata": {},
   "outputs": [
    {
     "data": {
      "text/plain": [
       "67.56583871882744"
      ]
     },
     "execution_count": 4,
     "metadata": {},
     "output_type": "execute_result"
    }
   ],
   "source": [
    "random_number=random.randint(-90,89)+random.random()\n",
    "random_number"
   ]
  },
  {
   "cell_type": "code",
   "execution_count": 5,
   "id": "73e069c2",
   "metadata": {},
   "outputs": [
    {
     "data": {
      "text/plain": [
       "10"
      ]
     },
     "execution_count": 5,
     "metadata": {},
     "output_type": "execute_result"
    }
   ],
   "source": [
    "random.randrange(-90, 90, step=1)"
   ]
  },
  {
   "cell_type": "code",
   "execution_count": 6,
   "id": "bb319aa3",
   "metadata": {},
   "outputs": [
    {
     "data": {
      "text/plain": [
       "-90"
      ]
     },
     "execution_count": 6,
     "metadata": {},
     "output_type": "execute_result"
    }
   ],
   "source": [
    "random.randrange(-90, 90, step=3)"
   ]
  },
  {
   "cell_type": "code",
   "execution_count": 7,
   "id": "542b1ecc",
   "metadata": {},
   "outputs": [
    {
     "data": {
      "text/plain": [
       "-82.03864934910214"
      ]
     },
     "execution_count": 7,
     "metadata": {},
     "output_type": "execute_result"
    }
   ],
   "source": [
    "random.uniform(-90, 90)"
   ]
  },
  {
   "cell_type": "code",
   "execution_count": 8,
   "id": "a5f85f44",
   "metadata": {},
   "outputs": [],
   "source": [
    "import numpy as np"
   ]
  },
  {
   "cell_type": "code",
   "execution_count": 9,
   "id": "5421e51d",
   "metadata": {},
   "outputs": [
    {
     "data": {
      "text/plain": [
       "-25.789141867701417"
      ]
     },
     "execution_count": 9,
     "metadata": {},
     "output_type": "execute_result"
    }
   ],
   "source": [
    "np.random.uniform(-90.000, 90.000)"
   ]
  },
  {
   "cell_type": "code",
   "execution_count": 10,
   "id": "a70d66a0",
   "metadata": {},
   "outputs": [
    {
     "data": {
      "text/plain": [
       "array([-80.05286595, -13.46644215,  79.82389195, -75.53615526,\n",
       "       -79.66580048,  68.11695354, -27.66866051,  53.9459247 ,\n",
       "        -5.99284848, -53.83533777,  26.69755731,  60.43817223,\n",
       "        68.77538261,  75.31911914, -14.1982083 , -35.2511774 ,\n",
       "       -74.25202134, -68.08716138,  37.59702523,  22.29649267,\n",
       "       -22.45461118, -33.8778788 ,  61.19636567, -74.96800556,\n",
       "       -85.20126463,   2.55160181,  76.12779304,   9.91445263,\n",
       "        69.39079375,  81.93194951,  68.34132136,  71.71847441,\n",
       "       -44.67674596, -53.4576509 , -66.46436082,   8.97264463,\n",
       "        87.11607043,  10.8479619 ,   9.73382022, -24.22910559,\n",
       "        18.78659628,  80.12138173,  58.76152418,  74.1501951 ,\n",
       "       -25.28139918,  78.72365741, -38.65307925,  26.9678235 ,\n",
       "        -9.28655399,  52.29885217])"
      ]
     },
     "execution_count": 10,
     "metadata": {},
     "output_type": "execute_result"
    }
   ],
   "source": [
    "np.random.uniform(-90.000, 90.000, size=50)"
   ]
  },
  {
   "cell_type": "code",
   "execution_count": 11,
   "id": "753975d7",
   "metadata": {},
   "outputs": [],
   "source": [
    "import timeit"
   ]
  },
  {
   "cell_type": "code",
   "execution_count": 12,
   "id": "2b15756f",
   "metadata": {},
   "outputs": [
    {
     "name": "stdout",
     "output_type": "stream",
     "text": [
      "16.5 µs ± 52 ns per loop (mean ± std. dev. of 7 runs, 100000 loops each)\n"
     ]
    }
   ],
   "source": [
    "%timeit np.random.uniform(-90.000, 90.000, size=1500)"
   ]
  },
  {
   "cell_type": "code",
   "execution_count": 14,
   "id": "3d93d68c",
   "metadata": {},
   "outputs": [
    {
     "name": "stdout",
     "output_type": "stream",
     "text": [
      "2.26 ms ± 302 µs per loop (mean ± std. dev. of 7 runs, 100 loops each)\n"
     ]
    }
   ],
   "source": [
    "def latitudes(size):\n",
    "    latitudes=[]\n",
    "    x=0\n",
    "    while x < (size):\n",
    "        random_lat=random.randint(-90,90)+random.random()\n",
    "        latitudes.append(random_lat)\n",
    "        x +=1\n",
    "    return latitudes\n",
    "%timeit latitudes(1500)"
   ]
  },
  {
   "cell_type": "code",
   "execution_count": 15,
   "id": "e2597194",
   "metadata": {},
   "outputs": [
    {
     "ename": "IndentationError",
     "evalue": "unexpected indent (Temp/ipykernel_13696/619486440.py, line 2)",
     "output_type": "error",
     "traceback": [
      "\u001b[1;36m  File \u001b[1;32m\"C:\\Users\\kirwa\\AppData\\Local\\Temp/ipykernel_13696/619486440.py\"\u001b[1;36m, line \u001b[1;32m2\u001b[0m\n\u001b[1;33m    while x < 1500:\u001b[0m\n\u001b[1;37m    ^\u001b[0m\n\u001b[1;31mIndentationError\u001b[0m\u001b[1;31m:\u001b[0m unexpected indent\n"
     ]
    }
   ],
   "source": [
    "for x in latitudes:\n",
    "    while x < 1500:\n",
    "        random_lat=random.randint(-90,90)+random.random()\n",
    "        latitudes.append(random_lat)\n",
    "        x +=1\n",
    "%timeit"
   ]
  },
  {
   "cell_type": "code",
   "execution_count": null,
   "id": "2673f09c",
   "metadata": {},
   "outputs": [],
   "source": []
  }
 ],
 "metadata": {
  "kernelspec": {
   "display_name": "Python 3 (ipykernel)",
   "language": "python",
   "name": "python3"
  },
  "language_info": {
   "codemirror_mode": {
    "name": "ipython",
    "version": 3
   },
   "file_extension": ".py",
   "mimetype": "text/x-python",
   "name": "python",
   "nbconvert_exporter": "python",
   "pygments_lexer": "ipython3",
   "version": "3.7.11"
  }
 },
 "nbformat": 4,
 "nbformat_minor": 5
}
